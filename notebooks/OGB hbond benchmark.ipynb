{
 "cells": [
  {
   "cell_type": "markdown",
   "id": "0386808c",
   "metadata": {},
   "source": [
    "# OGB Benchmarks"
   ]
  },
  {
   "cell_type": "markdown",
   "id": "1b7f038c",
   "metadata": {},
   "source": [
    "This notebook shows you how to re-create the benchmarks from the paper [Open Graph Benchmark: Datasets for Machine Learning on Graphs](https://arxiv.org/pdf/2005.00687.pdf).\n",
    "\n",
    "We'll train on a small dataset, the ESOL solubility dataset. You can see the reported results on Table 28 near the end of the paper in the Appendix."
   ]
  },
  {
   "cell_type": "code",
   "execution_count": null,
   "id": "9ada0cea",
   "metadata": {},
   "outputs": [],
   "source": [
    "from hbond_benchmark.train import parse_args, train"
   ]
  },
  {
   "cell_type": "code",
   "execution_count": null,
   "id": "845becb6",
   "metadata": {},
   "outputs": [],
   "source": [
    "name = 'esol'  # we'll use the esol dataset\n",
    "\n",
    "args = [\n",
    "    f'--dataset_name={name}',  # name of one of the builtin datasets, e.g. esol, pcba, hiv\n",
    "    '--dataset_root=data/',  # store the dataset here\n",
    "    '--hbonds',\n",
    "    '--n_runs=10',  # the paper uses the mean and std over ten runs\n",
    "    '--max_epochs=100',  # the paper uses 100 epochs per run\n",
    "    '--residual',  # the reference implementation uses residual connections\n",
    "    '--num_sanity_val_steps=0',\n",
    "]"
   ]
  },
  {
   "cell_type": "code",
   "execution_count": null,
   "id": "b7cec4a7",
   "metadata": {},
   "outputs": [],
   "source": [
    "args.append('--gpus=1')"
   ]
  },
  {
   "cell_type": "code",
   "execution_count": null,
   "id": "bdfd8368",
   "metadata": {},
   "outputs": [],
   "source": [
    "gnn_types = ['gcn', 'gin']\n",
    "virtual_node = [True, False]"
   ]
  },
  {
   "cell_type": "markdown",
   "id": "5c49b10b",
   "metadata": {},
   "source": [
    "## Run the experiment"
   ]
  },
  {
   "cell_type": "markdown",
   "id": "91dfcd52",
   "metadata": {},
   "source": [
    "We're comparing four different architectures with the full featurization: GCN vs GIN with or without a virtual node."
   ]
  },
  {
   "cell_type": "code",
   "execution_count": null,
   "id": "9c162f2e",
   "metadata": {},
   "outputs": [],
   "source": [
    "for gnn in gnn_types:\n",
    "    for virt in virtual_node:\n",
    "        _args = args.copy()\n",
    "        _args.append(f'--default_root_dir=models/{name}/{gnn}/{virt}')  # where the models will be stored\n",
    "        _args.append(f'--gnn_type={gnn}')\n",
    "        if virt:\n",
    "            _args.append('--virtual_node')\n",
    "        train(parse_args(_args))\n",
    "        "
   ]
  },
  {
   "cell_type": "markdown",
   "id": "e095ae47",
   "metadata": {},
   "source": [
    "## Compiling the results"
   ]
  },
  {
   "cell_type": "markdown",
   "id": "5b5b3423",
   "metadata": {},
   "source": [
    "We can extract the performance on the test set and the best validation epoch from the Tensorboard logs"
   ]
  },
  {
   "cell_type": "code",
   "execution_count": null,
   "id": "2c8f51a1",
   "metadata": {},
   "outputs": [],
   "source": [
    "from pathlib import Path\n",
    "from tensorboard.backend.event_processing import event_accumulator\n",
    "import pandas as pd"
   ]
  },
  {
   "cell_type": "code",
   "execution_count": null,
   "id": "a03d7217",
   "metadata": {},
   "outputs": [],
   "source": [
    "test_runs = []\n",
    "valid_runs = []\n",
    "\n",
    "for gnn in gnn_types:\n",
    "    for virt in virtual_node:\n",
    "        p = Path(f'models/{name}/{gnn}/{virt}')\n",
    "        event_files = list(p.glob('*/*/*tfevents*'))\n",
    "        for ef in event_files:\n",
    "            ea = event_accumulator.EventAccumulator(str(ef))\n",
    "            ea.Reload()\n",
    "            tags = ea.Tags()['scalars']\n",
    "            if any(['test' in x for x in tags]):\n",
    "                tag = [x for x in tags if 'test' in x][0]\n",
    "                row = {'gnn_type': gnn, 'virtual': virt, tag: ea.Scalars(tag)[0].value}\n",
    "                test_runs.append(row)\n",
    "            else:\n",
    "                tag = [x for x in tags if x not in ['hp_metric', 'epoch'] and 'train' not in x][0]\n",
    "                valid = [x.value for x in ea.Scalars(tag)]\n",
    "                best = max(valid) if tag != 'rmse' else min(valid)\n",
    "                row = {'gnn_type': gnn, 'virtual': virt, tag: best}\n",
    "                valid_runs.append(row)"
   ]
  },
  {
   "cell_type": "code",
   "execution_count": null,
   "id": "7a0b7c47",
   "metadata": {},
   "outputs": [],
   "source": [
    "pd.DataFrame(valid_runs).groupby(['gnn_type', 'virtual']).mean().round(3)"
   ]
  },
  {
   "cell_type": "code",
   "execution_count": null,
   "id": "871a4454",
   "metadata": {},
   "outputs": [],
   "source": [
    "pd.DataFrame(valid_runs).groupby(['gnn_type', 'virtual']).std().round(3)"
   ]
  },
  {
   "cell_type": "code",
   "execution_count": null,
   "id": "6ef803d2",
   "metadata": {},
   "outputs": [],
   "source": [
    "pd.DataFrame(test_runs).groupby(['gnn_type', 'virtual']).mean().round(3)"
   ]
  },
  {
   "cell_type": "code",
   "execution_count": null,
   "id": "f587f206",
   "metadata": {},
   "outputs": [],
   "source": [
    "pd.DataFrame(test_runs).groupby(['gnn_type', 'virtual']).std().round(3)"
   ]
  }
 ],
 "metadata": {
  "kernelspec": {
   "display_name": "Python 3 (ipykernel)",
   "language": "python",
   "name": "python3"
  },
  "language_info": {
   "codemirror_mode": {
    "name": "ipython",
    "version": 3
   },
   "file_extension": ".py",
   "mimetype": "text/x-python",
   "name": "python",
   "nbconvert_exporter": "python",
   "pygments_lexer": "ipython3",
   "version": "3.8.12"
  }
 },
 "nbformat": 4,
 "nbformat_minor": 5
}
